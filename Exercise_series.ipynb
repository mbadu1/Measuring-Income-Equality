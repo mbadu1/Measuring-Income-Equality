{
 "cells": [
  {
   "cell_type": "markdown",
   "metadata": {},
   "source": [
    "# Measuring Income Equality with the Gini Coefficient\n",
    "\n",
    "One measure of inequality frequently used by Economists, social scientists, and policy makers is the *[Gini coefficient](https://en.wikipedia.org/wiki/Gini_coefficient)*. The Gini coefficient takes as input the allocation of some resource — income, wealth, market share, etc. — for all entities in a population and returns a single number between 0 and 1 that summarizes the inequality of the distribution of said resource.\n",
    "\n",
    "The Gini coefficient takes on a value of 1 when the resource distribution is maximally *unequal* across the entities (e.g., one entity has all of the resource and no one else has any), and a value of 0 when the resource is evenly distributed across all entities. \n",
    "\n",
    "In this exercise, we will calculate the Gini Coefficient for income inequality across the countries of the world to get a sense of income inequality *across* countries. \n"
   ]
  },
  {
   "cell_type": "markdown",
   "metadata": {},
   "source": [
    "## Gradescope Autograding\n",
    "\n",
    "Please follow [all standard guidance](https://www.practicaldatascience.org/ids720_specific/autograder_guidelines.html) for submitting this assignment to the Gradescope autograder, including storing your solutions in a dictionary called `results` and ensuring your notebook runs from the start to completion without any errors.\n",
    "\n",
    "For this assignment, please name your file `exercise_series.ipynb` before uploading.\n",
    "\n",
    "You can check that you have answers for all questions in your `results` dictionary with this code:\n",
    "\n",
    "```python\n",
    "assert set(results.keys()) == {\n",
    "    \"ex2_mean\",\n",
    "    \"ex2_median\",\n",
    "    \"ex3_highest_gdp_percap\",\n",
    "    \"ex3_lowest_gdp_percap\",\n",
    "    \"ex4_lessthan20_000\",\n",
    "    \"ex5_switzerland\",\n",
    "    \"ex6_gini_loop\",\n",
    "    \"ex7_gini_vectorized\",\n",
    "    \"ex8_gini_2025\",\n",
    "}\n",
    "```\n",
    "\n",
    "### Submission Limits\n",
    "\n",
    "Please remember that you are **only allowed three submissions to the autograder.** Your last submission (if you submit 3 or fewer times), or your third submission (if you submit more than 3 times) will determine your grade Submissions that error out will **not** count against this total.\n"
   ]
  },
  {
   "cell_type": "markdown",
   "metadata": {},
   "source": [
    "### Exercise 1\n",
    "\n",
    "To get accustomed to Series, let's explore some data on the wealth of 10 randomly selected countries. Data below presents the GDP per capita for these countries in 2008. \n",
    "\n",
    "Use the code below to get started: \n",
    "\n",
    "```python\n",
    "gdppercap = pd.Series(\n",
    "    [34605, 34493, 12393, 44200, 10041, 58138, 4709, 49284, 10109, 42536],\n",
    "    index=[\n",
    "        \"Bahrain\",\n",
    "        \"Belgium\",\n",
    "        \"Bulgaria\",\n",
    "        \"Ireland\",\n",
    "        \"Macedonia\",\n",
    "        \"Norway\",\n",
    "        \"Paraguay\",\n",
    "        \"Singapore\",\n",
    "        \"South Africa\",\n",
    "        \"Switzerland\",\n",
    "    ],\n",
    ")\n",
    "```\n",
    "\n"
   ]
  },
  {
   "cell_type": "code",
   "execution_count": 13,
   "metadata": {},
   "outputs": [
    {
     "data": {
      "text/plain": [
       "Bahrain         34605\n",
       "Belgium         34493\n",
       "Bulgaria        12393\n",
       "Ireland         44200\n",
       "Macedonia       10041\n",
       "Norway          58138\n",
       "Paraguay         4709\n",
       "Singapore       49284\n",
       "South Africa    10109\n",
       "Switzerland     42536\n",
       "dtype: int64"
      ]
     },
     "execution_count": 13,
     "metadata": {},
     "output_type": "execute_result"
    }
   ],
   "source": [
    "import pandas as pd\n",
    "\n",
    "gdppercap = pd.Series(\n",
    "    [34605, 34493, 12393, 44200, 10041, 58138, 4709, 49284, 10109, 42536],\n",
    "    index=[\n",
    "        \"Bahrain\",\n",
    "        \"Belgium\",\n",
    "        \"Bulgaria\",\n",
    "        \"Ireland\",\n",
    "        \"Macedonia\",\n",
    "        \"Norway\",\n",
    "        \"Paraguay\",\n",
    "        \"Singapore\",\n",
    "        \"South Africa\",\n",
    "        \"Switzerland\",\n",
    "    ],\n",
    ")\n",
    "\n",
    "gdppercap"
   ]
  },
  {
   "cell_type": "markdown",
   "metadata": {},
   "source": [
    "### Exercise 2\n",
    "\n",
    "Find the mean, median, minimum and maximum values of GDP per capita in this data. "
   ]
  },
  {
   "cell_type": "code",
   "execution_count": 14,
   "metadata": {},
   "outputs": [],
   "source": [
    "mean_val = gdppercap.mean()\n",
    "median_val = gdppercap.median()"
   ]
  },
  {
   "cell_type": "code",
   "execution_count": 15,
   "metadata": {},
   "outputs": [],
   "source": [
    "results = {\n",
    "    \"ex2_mean\": mean_val,\n",
    "    \"ex2_median\": median_val,\n",
    "}"
   ]
  },
  {
   "cell_type": "code",
   "execution_count": 16,
   "metadata": {},
   "outputs": [
    {
     "data": {
      "text/plain": [
       "{'ex2_mean': np.float64(30050.8), 'ex2_median': np.float64(34549.0)}"
      ]
     },
     "execution_count": 16,
     "metadata": {},
     "output_type": "execute_result"
    }
   ],
   "source": [
    "results"
   ]
  },
  {
   "cell_type": "markdown",
   "metadata": {},
   "source": [
    "### Exercise 3\n",
    "\n",
    "Programmatically, determine which country in our data has the highest income per capita, and which has the lowest income per capita.\n",
    "\n",
    "(Obviously, this is easier to do by just looking at the data, but that's only because this dataset is very small. With a real dataset, you would need to do it with code, so please write code to accomplish this task.)\n",
    "\n",
    "Hint: Country names form the index for this Series, so to get country names you'll need to access the index. \n",
    "\n",
    "Store the country names *as strings* with the keys `\"ex3_highest_gdp_percap\"` and `\"ex3_lowest_gdp_percap\"`"
   ]
  },
  {
   "cell_type": "code",
   "execution_count": 17,
   "metadata": {},
   "outputs": [],
   "source": [
    "# This is to find the country with the highest GDP per capita\n",
    "results[\"ex3_highest_gdp_percap\"] = gdppercap.idxmax()\n",
    "\n",
    "# This is to find the country with the lowest GDP per capita\n",
    "results[\"ex3_lowest_gdp_percap\"] = gdppercap.idxmin()"
   ]
  },
  {
   "cell_type": "code",
   "execution_count": 18,
   "metadata": {},
   "outputs": [
    {
     "data": {
      "text/plain": [
       "{'ex2_mean': np.float64(30050.8),\n",
       " 'ex2_median': np.float64(34549.0),\n",
       " 'ex3_highest_gdp_percap': 'Norway',\n",
       " 'ex3_lowest_gdp_percap': 'Paraguay'}"
      ]
     },
     "execution_count": 18,
     "metadata": {},
     "output_type": "execute_result"
    }
   ],
   "source": [
    "results"
   ]
  },
  {
   "cell_type": "markdown",
   "metadata": {},
   "source": [
    "### Exercise 4\n",
    "\n",
    "Get Python to print out the names of all the countries that have GDP per capita of less than \\$20,000.\n",
    "\n",
    "Store these countries in a list, sorted alphabetically, and store it in `results` under the key `\"ex4_lessthan20_000\"`"
   ]
  },
  {
   "cell_type": "code",
   "execution_count": 19,
   "metadata": {},
   "outputs": [
    {
     "name": "stdout",
     "output_type": "stream",
     "text": [
      "['Bulgaria', 'Macedonia', 'Paraguay', 'South Africa']\n"
     ]
    },
    {
     "data": {
      "text/plain": [
       "{'ex2_mean': np.float64(30050.8),\n",
       " 'ex2_median': np.float64(34549.0),\n",
       " 'ex3_highest_gdp_percap': 'Norway',\n",
       " 'ex3_lowest_gdp_percap': 'Paraguay',\n",
       " 'ex4_lessthan20_000': ['Bulgaria', 'Macedonia', 'Paraguay', 'South Africa']}"
      ]
     },
     "execution_count": 19,
     "metadata": {},
     "output_type": "execute_result"
    }
   ],
   "source": [
    "# List of countries with GDP per capita less than $20,000\n",
    "countries_lt_20k = gdppercap[gdppercap < 20000].index.tolist()\n",
    "countries_lt_20k_list = sorted(list(countries_lt_20k))\n",
    "\n",
    "# This is to print the countries\n",
    "print(countries_lt_20k_list)\n",
    "\n",
    "# Storing the sorted list in results\n",
    "results[\"ex4_lessthan20_000\"] = countries_lt_20k_list\n",
    "\n",
    "results"
   ]
  },
  {
   "cell_type": "markdown",
   "metadata": {},
   "source": [
    "### Exercise 5 \n",
    "\n",
    "Get Python to print out the GDP per capita of Switzerland. Store the result as `ex5_switzerland`:"
   ]
  },
  {
   "cell_type": "code",
   "execution_count": 20,
   "metadata": {},
   "outputs": [
    {
     "name": "stdout",
     "output_type": "stream",
     "text": [
      "42536\n"
     ]
    },
    {
     "data": {
      "text/plain": [
       "{'ex2_mean': np.float64(30050.8),\n",
       " 'ex2_median': np.float64(34549.0),\n",
       " 'ex3_highest_gdp_percap': 'Norway',\n",
       " 'ex3_lowest_gdp_percap': 'Paraguay',\n",
       " 'ex4_lessthan20_000': ['Bulgaria', 'Macedonia', 'Paraguay', 'South Africa'],\n",
       " 'ex5_switzerland': np.int64(42536)}"
      ]
     },
     "execution_count": 20,
     "metadata": {},
     "output_type": "execute_result"
    }
   ],
   "source": [
    "# GDP per capita for Switzerland\n",
    "switzerland_gdp = gdppercap[\"Switzerland\"]\n",
    "\n",
    "# Print Value\n",
    "print(switzerland_gdp)\n",
    "\n",
    "# Storing in results dic.\n",
    "results[\"ex5_switzerland\"] = switzerland_gdp\n",
    "results"
   ]
  },
  {
   "cell_type": "markdown",
   "metadata": {},
   "source": [
    "### Exercise 6\n",
    "\n",
    "One frequntly used measure of inequality is the Gini Coefficient. The Gini Coefficient takes on a value of 1 when the distribution of some variable is maximally unequal across a population, and a value of 0 when it is evenly distributed. We will calculate the Gini Coefficient for income inequality in our data. \n",
    "\n",
    "To visualize the Gini Coefficient, we plot the cumulative share of the population (ordered from poorest to richest) on the x-axis, and cumulative share of income earned by that group on the y-axis. The Gini Coefficient is then defined as $$\\frac{A}{A + B}$$, where the areas A and B are labeled below: \n",
    "\n",
    "![gini_coefficient](https://upload.wikimedia.org/wikipedia/commons/thumb/5/59/Economics_Gini_coefficient2.svg/800px-Economics_Gini_coefficient2.svg.png)\n",
    "\n",
    "If income is evenly distributed, then the poorest 20% of a population will also have 20% of the wealth; the poorest 40% will have 40% of the wealth, and so forth, resulting in a perfect 45 degree line. In this situation, there is no area between the 45% line and the actual income distribution, so $A=0$, and the Gini Coefficient is 0. \n",
    "\n",
    "If, by contrast, the top 10% of people hold all the wealth in a country, then there will be no wealth for the poorest 90% of people, then wealth will jump up at the far right side of the graph. This will generate a very large gap between the 45% line and actual income for most of the graph, generating a large value for the area $A$, creating a very high Gini Coefficient. \n",
    "\n",
    "To illustrate, here are a few different Gini plots. These come from someone studying inequality of participation, so to adapt this to our study of income, just imagine the y-axis plots share of income):\n",
    "\n",
    "![gini_distributions](https://miro.medium.com/max/595/0*3DTcZnzDwS6A6AtP)"
   ]
  },
  {
   "cell_type": "markdown",
   "metadata": {},
   "source": [
    "For discrete data, the Gini Coefficient can be calculated with the following formula: \n",
    "\n",
    "$$\\frac{2 \\sum_{i=1}^n i y_i}{n \\sum_{i=1}^n y_i} -\\frac{n+1}{n}$$\n",
    "\n",
    "Where $i$ is each country's rank ordering from poorest to richest, and $y_i$ is the income of country $i$.\n"
   ]
  },
  {
   "cell_type": "markdown",
   "metadata": {},
   "source": [
    "\n",
    "### Exercise 6\n",
    "\n",
    "Using this formula, calculate the Gini coefficient for our income data. \n",
    "\n",
    "Begin by writing a function to calculate the Gini Coefficient for our data *by looping over the entries in our Series*. In other words, try and embrace the spirit of how you might normally think about interpreting the summation notation written above.\n",
    "\n",
    "Store the gini coefficient you calculate in `results` under the key `\"ex6_gini_loop\"`.\n",
    "\n",
    "**HINT**: Be careful with 0-indexing! Python counts from 0, but mathematical formulas (like $\\sum$) start from 1!\n",
    "\n",
    "**HINT 2**: I'll probalby ask you to use this more than once, so please put it in a function."
   ]
  },
  {
   "cell_type": "code",
   "execution_count": 21,
   "metadata": {},
   "outputs": [
    {
     "name": "stdout",
     "output_type": "stream",
     "text": [
      "0.3382798461272245\n"
     ]
    },
    {
     "data": {
      "text/plain": [
       "{'ex2_mean': np.float64(30050.8),\n",
       " 'ex2_median': np.float64(34549.0),\n",
       " 'ex3_highest_gdp_percap': 'Norway',\n",
       " 'ex3_lowest_gdp_percap': 'Paraguay',\n",
       " 'ex4_lessthan20_000': ['Bulgaria', 'Macedonia', 'Paraguay', 'South Africa'],\n",
       " 'ex5_switzerland': np.int64(42536),\n",
       " 'ex6_gini_loop': np.float64(0.3382798461272245)}"
      ]
     },
     "execution_count": 21,
     "metadata": {},
     "output_type": "execute_result"
    }
   ],
   "source": [
    "def gini_coefficient_loop(series):\n",
    "    # values in ascending order\n",
    "    sorted_series = series.sort_values()\n",
    "    n = len(sorted_series)\n",
    "    y = sorted_series.values\n",
    "    total_income = sum(y)\n",
    "    weighted_sum = 0\n",
    "\n",
    "    # Loop with 1-based indexing\n",
    "    for i in range(1, n + 1):\n",
    "        weighted_sum += i * y[i - 1]  # y[i-1] accounts for 0-indexing\n",
    "\n",
    "    gini = (2 * weighted_sum) / (n * total_income) - (n + 1) / n\n",
    "    return gini\n",
    "\n",
    "\n",
    "# Store in results dictionary.\n",
    "results[\"ex6_gini_loop\"] = gini_coefficient_loop(gdppercap)\n",
    "print(results[\"ex6_gini_loop\"])\n",
    "results"
   ]
  },
  {
   "cell_type": "markdown",
   "metadata": {},
   "source": [
    "### Exercise 7\n",
    "\n",
    "Excellent! But as we've seen in [our readings](https://nickeubank.github.io/practicaldatascience_book/notebooks/class_2/week_4/11_vectorization.html), in data science we generally strive to *not* loop over the entries in our arrays; instead, we aspire to write *vectorized code* that naturally applies a simple operation to each observation.\n",
    "\n",
    "So now write a new function to calculate the Gini Coefficient that *doesn't* use loops, and instead relies on vectorized code.\n",
    "\n",
    "Store the result in `results` under the key `\"ex7_gini_vectorized\"`.\n",
    "\n",
    "**HINT:** you will probably have to create some new series/vectors/arrays."
   ]
  },
  {
   "cell_type": "code",
   "execution_count": 22,
   "metadata": {},
   "outputs": [
    {
     "name": "stdout",
     "output_type": "stream",
     "text": [
      "0.3382798461272245\n"
     ]
    },
    {
     "data": {
      "text/plain": [
       "{'ex2_mean': np.float64(30050.8),\n",
       " 'ex2_median': np.float64(34549.0),\n",
       " 'ex3_highest_gdp_percap': 'Norway',\n",
       " 'ex3_lowest_gdp_percap': 'Paraguay',\n",
       " 'ex4_lessthan20_000': ['Bulgaria', 'Macedonia', 'Paraguay', 'South Africa'],\n",
       " 'ex5_switzerland': np.int64(42536),\n",
       " 'ex6_gini_loop': np.float64(0.3382798461272245),\n",
       " 'ex7_gini_vectorized': np.float64(0.3382798461272245)}"
      ]
     },
     "execution_count": 22,
     "metadata": {},
     "output_type": "execute_result"
    }
   ],
   "source": [
    "import numpy as np\n",
    "\n",
    "\n",
    "def gini_coefficient_vectorized(series):\n",
    "    # Sort values in ascending order\n",
    "    sorted_series = series.sort_values()\n",
    "    n = len(sorted_series)\n",
    "    y = sorted_series.values\n",
    "    ranks = np.arange(1, n + 1)\n",
    "\n",
    "    # Calculating the vectorized sum for numerator\n",
    "    weighted_sum = np.sum(ranks * y)\n",
    "    total = np.sum(y)\n",
    "\n",
    "    gini = (2 * weighted_sum) / (n * total) - (n + 1) / n\n",
    "    return gini\n",
    "\n",
    "\n",
    "# Store in the vectorized Gini coefficient\n",
    "results[\"ex7_gini_vectorized\"] = gini_coefficient_vectorized(gdppercap)\n",
    "print(results[\"ex7_gini_vectorized\"])\n",
    "results"
   ]
  },
  {
   "cell_type": "markdown",
   "metadata": {},
   "source": [
    "### Exercise 8\n",
    "\n",
    "The result we just generated offers a snap-shot of inequality for this subset of countries. But what are the dynamics of inequality for these countries?\n",
    "\n",
    "There is an idea in economics called the \"convergence hypothesis\", which argues that poorer countries are likely to grow faster, and as a result global inequality is likely to decline. Economists advocating for this hypothesis pointed out that while rich countries had to invent new technologies in order to grow, many poor countries simply had to take advantage of innovations already developed by rich countries. \n",
    "\n",
    "To test this hypothesis, let's do a small analysis of the dynamics of income inequality in our sample. Create the following Series in your Python session, which provides the average growth rate of GDP per capita for all the countries in our sample from 2000 to 2018. \n",
    "\n",
    "```python\n",
    "avg_growth = pd.Series(\n",
    "    [\n",
    "        -0.29768835,\n",
    "        0.980299584,\n",
    "        4.52991925,\n",
    "        3.686556736,\n",
    "        2.621416804,\n",
    "        0.775132075,\n",
    "        2.015489468,\n",
    "        3.345793635,\n",
    "        1.349993318,\n",
    "        0.982775018,\n",
    "    ],\n",
    "    index=[\n",
    "        \"Bahrain\",\n",
    "        \"Belgium\",\n",
    "        \"Bulgaria\",\n",
    "        \"Ireland\",\n",
    "        \"Macedonia\",\n",
    "        \"Norway\",\n",
    "        \"Paraguay\",\n",
    "        \"Singapore\",\n",
    "        \"South Africa\",\n",
    "        \"Switzerland\",\n",
    "    ],\n",
    ")\n",
    "```"
   ]
  },
  {
   "cell_type": "markdown",
   "metadata": {},
   "source": [
    "Using this data on average growth rates in GDP per capita, and assuming growth rates from 2000 to 2018 continue into the future, estimate what our Gini Coefficient may look like in 2025 (remembering that income in our data is from 2008, so we're extrapolating ahead 17 years)?\n",
    "\n",
    "**Hint:** the formula for compound growth (i.e. value of something growing at a rate of `x` percent for $t$ periods) is:\n",
    "\n",
    "$$future\\_value = current\\_value * (1 + \\frac{percentage\\_growth\\_rate}{100}))^t$$\n",
    "\n",
    "Store the answer in `results` under the key `\"ex8_gini_2025\"`"
   ]
  },
  {
   "cell_type": "code",
   "execution_count": 23,
   "metadata": {},
   "outputs": [
    {
     "name": "stdout",
     "output_type": "stream",
     "text": [
      "0.3656264991306193\n"
     ]
    },
    {
     "data": {
      "text/plain": [
       "{'ex2_mean': np.float64(30050.8),\n",
       " 'ex2_median': np.float64(34549.0),\n",
       " 'ex3_highest_gdp_percap': 'Norway',\n",
       " 'ex3_lowest_gdp_percap': 'Paraguay',\n",
       " 'ex4_lessthan20_000': ['Bulgaria', 'Macedonia', 'Paraguay', 'South Africa'],\n",
       " 'ex5_switzerland': np.int64(42536),\n",
       " 'ex6_gini_loop': np.float64(0.3382798461272245),\n",
       " 'ex7_gini_vectorized': np.float64(0.3382798461272245),\n",
       " 'ex8_gini_2025': np.float64(0.3656264991306193)}"
      ]
     },
     "execution_count": 23,
     "metadata": {},
     "output_type": "execute_result"
    }
   ],
   "source": [
    "# Given average GDP per capita growth rates (% per year)\n",
    "avg_growth = pd.Series(\n",
    "    [\n",
    "        -0.29768835,\n",
    "        0.980299584,\n",
    "        4.52991925,\n",
    "        3.686556736,\n",
    "        2.621416804,\n",
    "        0.775132075,\n",
    "        2.015489468,\n",
    "        3.345793635,\n",
    "        1.349993318,\n",
    "        0.982775018,\n",
    "    ],\n",
    "    index=[\n",
    "        \"Bahrain\",\n",
    "        \"Belgium\",\n",
    "        \"Bulgaria\",\n",
    "        \"Ireland\",\n",
    "        \"Macedonia\",\n",
    "        \"Norway\",\n",
    "        \"Paraguay\",\n",
    "        \"Singapore\",\n",
    "        \"South Africa\",\n",
    "        \"Switzerland\",\n",
    "    ],\n",
    ")\n",
    "\n",
    "years = 17\n",
    "\n",
    "# Calculate projected 2025 GDP per capita for each country\n",
    "gdp_2025 = gdppercap * (1 + avg_growth / 100) ** years\n",
    "\n",
    "# Using the vectorized Gini function\n",
    "gini_2025 = gini_coefficient_vectorized(gdp_2025)\n",
    "\n",
    "print(gini_2025)\n",
    "results[\"ex8_gini_2025\"] = gini_2025\n",
    "results"
   ]
  },
  {
   "cell_type": "markdown",
   "metadata": {},
   "source": [
    "### Exercise 9\n",
    "\n",
    "Interpret your result -- does it seem to imply that we are seeing covergence or not?\n",
    "\n",
    "[After you're done, you can see a more systematic version of this analysis here!](https://www.cgdev.org/blog/everything-you-know-about-cross-country-convergence-now-wrong)"
   ]
  },
  {
   "cell_type": "markdown",
   "metadata": {},
   "source": [
    "The calculation shows that the Gini coefficient increases from about 0.34 (in 2008) to approx 0.37 (in 2025), assuming each country's GDP per capita continues to grow at the average rates from 2000–2018.\n",
    "No convergence is observed in this scenario. The Gini coefficient rising implies that income inequality between these countries is projected to widen.\n",
    " However, global inequality among these countries may actually be increasing if these growth patterns continue.\n"
   ]
  },
  {
   "cell_type": "code",
   "execution_count": 24,
   "metadata": {},
   "outputs": [],
   "source": [
    "assert set(results.keys()) == {\n",
    "    \"ex2_mean\",\n",
    "    \"ex2_median\",\n",
    "    \"ex3_highest_gdp_percap\",\n",
    "    \"ex3_lowest_gdp_percap\",\n",
    "    \"ex4_lessthan20_000\",\n",
    "    \"ex5_switzerland\",\n",
    "    \"ex6_gini_loop\",\n",
    "    \"ex7_gini_vectorized\",\n",
    "    \"ex8_gini_2025\",\n",
    "}"
   ]
  }
 ],
 "metadata": {
  "interpreter": {
   "hash": "f06fa9c80cc08d4d343f66ad24a278ad0285590eac640a80c32c9d748f33a802"
  },
  "kernelspec": {
   "display_name": "Python 3.9.7 64-bit ('base': conda)",
   "name": "python3"
  },
  "language_info": {
   "codemirror_mode": {
    "name": "ipython",
    "version": 3
   },
   "file_extension": ".py",
   "mimetype": "text/x-python",
   "name": "python",
   "nbconvert_exporter": "python",
   "pygments_lexer": "ipython3",
   "version": "3.11.4"
  }
 },
 "nbformat": 4,
 "nbformat_minor": 4
}
